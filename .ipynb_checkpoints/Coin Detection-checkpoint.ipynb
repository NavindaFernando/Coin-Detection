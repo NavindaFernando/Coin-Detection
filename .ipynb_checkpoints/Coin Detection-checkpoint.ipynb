{
 "cells": [
  {
   "cell_type": "markdown",
   "id": "3f6c3f14",
   "metadata": {},
   "source": [
    "### Load & show image"
   ]
  },
  {
   "cell_type": "code",
   "execution_count": null,
   "id": "43810ded",
   "metadata": {},
   "outputs": [],
   "source": [
    "import cv2\n",
    "from matplotlib import pyplot as plt\n",
    "\n",
    "img = cv2.imread('asserts/sl coins.jpg',0)\n",
    "\n",
    "plt.imshow(img,cmap='gray')"
   ]
  },
  {
   "cell_type": "markdown",
   "id": "05b42123",
   "metadata": {},
   "source": [
    "### Thresholding to image"
   ]
  },
  {
   "cell_type": "code",
   "execution_count": null,
   "id": "5533af01",
   "metadata": {},
   "outputs": [],
   "source": [
    "ret,thresh=cv2.threshold(img,200,255,cv2.THRESH_BINARY)\n",
    "plt.imshow(thresh,cmap='gray')"
   ]
  },
  {
   "cell_type": "markdown",
   "id": "77847646",
   "metadata": {},
   "source": [
    "### Image detection (find contours)"
   ]
  },
  {
   "cell_type": "code",
   "execution_count": null,
   "id": "fe3a12b6",
   "metadata": {},
   "outputs": [],
   "source": [
    "img = cv2.imread('asserts/sl coins.jpg')\n",
    "imgray = cv2.cvtColor(img, cv2.COLOR_BGR2GRAY)\n",
    "ret, thresh = cv2.threshold(imgray, 200, 255, cv2.THRESH_BINARY)\n",
    "\n",
    "contours,hierarchy = cv2.findContours(thresh,cv2.RETR_TREE,cv2.CHAIN_APPROX_SIMPLE)\n",
    "\n",
    "print(len(contours))\n",
    "print(len(contours[8]))\n",
    "print(len(contours[8]))\n",
    "\n",
    "cv2.drawContours(img, contours,-1, (0,255,0), 3)\n",
    "\n",
    "cv2.imshow('thresh',thresh)\n",
    "cv2.imshow('img',img)\n",
    "cv2.waitKey(0)\n",
    "cv2.destroyAllWindows()\n"
   ]
  },
  {
   "cell_type": "markdown",
   "id": "cd0c5ab4",
   "metadata": {},
   "source": [
    "### Short contours"
   ]
  },
  {
   "cell_type": "code",
   "execution_count": null,
   "id": "943fbc94",
   "metadata": {},
   "outputs": [],
   "source": [
    "img = cv2.imread('Samples/sl coins.jpg')\n",
    "imgray = cv2.cvtColor(img, cv2.COLOR_BGR2GRAY)\n",
    "ret, thresh = cv2.threshold(imgray, 200, 255, cv2.THRESH_BINARY)\n",
    "\n",
    "contours,hierarchy = cv2.findContours(thresh,cv2.RETR_TREE,cv2.CHAIN_APPROX_SIMPLE)\n",
    "\n",
    "for cnt in contours:\n",
    "    area=cv2.contourArea(cnt)\n",
    "    print(area)\n",
    "    if(area>18000 and area<20000):\n",
    "        cv2.drawContours(img, [cnt],-1, (0,0,255), 2)\n",
    "\n",
    "cv2.imshow('thresh',thresh)\n",
    "cv2.imshow('img',img)\n",
    "cv2.waitKey(0)\n",
    "cv2.destroyAllWindows()"
   ]
  },
  {
   "cell_type": "markdown",
   "id": "a6e1471f",
   "metadata": {},
   "source": [
    "### Add bounding rectangle"
   ]
  },
  {
   "cell_type": "code",
   "execution_count": null,
   "id": "aca0c42c",
   "metadata": {},
   "outputs": [],
   "source": [
    "img = cv2.imread('Samples/sl coins.jpg')\n",
    "imgray = cv2.cvtColor(img, cv2.COLOR_BGR2GRAY)\n",
    "ret, thresh = cv2.threshold(imgray, 200, 255, cv2.THRESH_BINARY)\n",
    "\n",
    "contours,hierarchy = cv2.findContours(thresh,cv2.RETR_TREE,cv2.CHAIN_APPROX_SIMPLE)\n",
    "\n",
    "for cnt in contours:\n",
    "    area=cv2.contourArea(cnt)\n",
    "\n",
    "    if(area>18000 and area<20000):\n",
    "        cv2.drawContours(img, [cnt],-1, (0,0,255), 2)\n",
    "        x,y,w,h=cv2.boundingRect(cnt)\n",
    "        cv2.rectangle(img,(x,y),(x+w,y+h),(0,0,255),3)\n",
    "        print(x,y,w,h)\n",
    "\n",
    "cv2.imshow('thresh',thresh)\n",
    "cv2.imshow('img',img)\n",
    "cv2.waitKey(0)\n",
    "cv2.destroyAllWindows()\n",
    "\n",
    "\n"
   ]
  },
  {
   "cell_type": "markdown",
   "id": "becec508",
   "metadata": {},
   "source": [
    "### Real time detection"
   ]
  },
  {
   "cell_type": "code",
   "execution_count": null,
   "id": "d9e4ee25",
   "metadata": {},
   "outputs": [],
   "source": [
    "import cv2\n",
    "\n",
    "source=cv2.VideoCapture(0)\n",
    "\n",
    "#0-webcam\n",
    "#1,2,3=usb camera\n",
    "#myVideo.mp4-file\n",
    "#124.35.32.43.643 p/w user name - wifi camera\n",
    "\n",
    "while(True):\n",
    "    \n",
    "    ret,img=source.read()\n",
    "    #print(ret)\n",
    "    \n",
    "    if(ret==False):\n",
    "        break\n",
    "    \n",
    "    imgray = cv2.cvtColor(img, cv2.COLOR_BGR2GRAY)\n",
    "    ret, thresh = cv2.threshold(imgray, 80, 255,cv2.THRESH_BINARY)\n",
    "\n",
    "    contours, hierarchy = cv2.findContours(thresh, cv2.RETR_TREE, cv2.CHAIN_APPROX_SIMPLE)\n",
    "\n",
    "    for cnt in contours:\n",
    "        area=cv2.contourArea(cnt)\n",
    "        print(area)\n",
    "        if(area>16000):\n",
    "            cv2.drawContours(img, [cnt], -1, (0,255,255), 2)\n",
    "            x,y,w,h = cv2.boundingRect(cnt)\n",
    "            print(x,y,w,h)\n",
    "            cv2.rectangle(img,(x,y),(x+w,y+h),(0,0,255),2)\n",
    "\n",
    "    cv2.imshow('thresh',thresh)\n",
    "    cv2.imshow('img',img)\n",
    "    key=cv2.waitKey(10)\n",
    "    \n",
    "    if(key==27):\n",
    "        break\n",
    "    \n",
    "cv2.destroyAllWindows()\n",
    "source.release()"
   ]
  },
  {
   "cell_type": "code",
   "execution_count": null,
   "id": "89a5e5f9",
   "metadata": {},
   "outputs": [],
   "source": []
  }
 ],
 "metadata": {
  "kernelspec": {
   "display_name": "Python 3 (ipykernel)",
   "language": "python",
   "name": "python3"
  },
  "language_info": {
   "codemirror_mode": {
    "name": "ipython",
    "version": 3
   },
   "file_extension": ".py",
   "mimetype": "text/x-python",
   "name": "python",
   "nbconvert_exporter": "python",
   "pygments_lexer": "ipython3",
   "version": "3.10.9"
  }
 },
 "nbformat": 4,
 "nbformat_minor": 5
}
